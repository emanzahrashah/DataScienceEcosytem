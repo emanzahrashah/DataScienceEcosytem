{
 "cells": [
  {
   "cell_type": "markdown",
   "id": "a1894475-a896-4058-9e5b-b5fdf7171dcf",
   "metadata": {},
   "source": [
    "#  Data Science Tools and Ecosystem\n",
    "In this notebook, Data Science Tools and Ecosystem are summarized."
   ]
  },
  {
   "cell_type": "markdown",
   "id": "cdfc24be-6090-4ca1-81fb-c8874b6c2b2a",
   "metadata": {},
   "source": [
    "Some of the popular languages that Data Scientists use are:\n",
    "1. Python\n",
    "2. R\n",
    "3. SQL"
   ]
  },
  {
   "cell_type": "markdown",
   "id": "7e2818e0-012d-4124-8ad0-decd14af7811",
   "metadata": {},
   "source": [
    "Some of the commonly used libraries used by Data Scientists include:\n",
    "1. Pandas\n",
    "2. MatPlotlib\n",
    "3. ggplot"
   ]
  },
  {
   "cell_type": "markdown",
   "id": "47e20a91-9050-4e04-a7b5-08ca0df23e8a",
   "metadata": {},
   "source": [
    "| Data Science Tools |\n",
    "|--------------------|\n",
    "| VScode |\n",
    "| RStudio |\n",
    "| JupyterNotebook |"
   ]
  },
  {
   "cell_type": "markdown",
   "id": "60a32a82-aac7-4846-8b02-41fe7dc42981",
   "metadata": {},
   "source": [
    "### Below are a few examples of evaluating arithmetic expressions in Python\n",
    "# Addition\n",
    "print(4+5) # Result(9)\n",
    "# Substraction\n",
    "print(10-3) #Result(7)"
   ]
  },
  {
   "cell_type": "code",
   "execution_count": 16,
   "id": "de55e6ce-3f53-4124-8a70-514636dc7288",
   "metadata": {},
   "outputs": [
    {
     "data": {
      "text/plain": [
       "17"
      ]
     },
     "execution_count": 16,
     "metadata": {},
     "output_type": "execute_result"
    }
   ],
   "source": [
    "# This a simple arithmetic expression to mutiply then add integers\n",
    "(3*4)+5"
   ]
  },
  {
   "cell_type": "code",
   "execution_count": 18,
   "id": "c09a69d3-df59-4449-84a1-dae9e236c64a",
   "metadata": {},
   "outputs": [
    {
     "name": "stdout",
     "output_type": "stream",
     "text": [
      "3.3333333333333335\n"
     ]
    }
   ],
   "source": [
    "#  This will convert 200 minutes to hours by diving by 60\n",
    "minutes=200\n",
    "hours=minutes/60\n",
    "print(hours)"
   ]
  },
  {
   "cell_type": "markdown",
   "id": "cb537a37-1581-4489-aadf-fda776206ef1",
   "metadata": {},
   "source": [
    "# Objectives:\n",
    "Popular languages for Data science\n",
    "popular_languages = {'R','Python','SQL','Julia','Scala'}\n",
    "print(popular_languages)"
   ]
  },
  {
   "cell_type": "markdown",
   "id": "ab7c9f3a-af16-4c61-83e4-ffc6ce8f86dd",
   "metadata": {},
   "source": [
    "## Author\n",
    "EMAN ZAHRA"
   ]
  },
  {
   "cell_type": "code",
   "execution_count": null,
   "id": "c7a247d1-31f4-4c42-9a49-19cf08b9d0d4",
   "metadata": {},
   "outputs": [],
   "source": []
  }
 ],
 "metadata": {
  "kernelspec": {
   "display_name": "Python [conda env:base] *",
   "language": "python",
   "name": "conda-base-py"
  },
  "language_info": {
   "codemirror_mode": {
    "name": "ipython",
    "version": 3
   },
   "file_extension": ".py",
   "mimetype": "text/x-python",
   "name": "python",
   "nbconvert_exporter": "python",
   "pygments_lexer": "ipython3",
   "version": "3.12.7"
  }
 },
 "nbformat": 4,
 "nbformat_minor": 5
}
